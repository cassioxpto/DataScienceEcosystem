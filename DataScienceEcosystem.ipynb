{
 "cells": [
  {
   "cell_type": "markdown",
   "id": "d641d1fc-f707-4aeb-8f72-e831caf71bbd",
   "metadata": {},
   "source": [
    "# Data Science Tools and Ecosystem"
   ]
  },
  {
   "cell_type": "markdown",
   "id": "88a06e57-2547-447b-8f5b-22289f27835d",
   "metadata": {
    "editable": true,
    "slideshow": {
     "slide_type": ""
    },
    "tags": []
   },
   "source": [
    "### Neste notebook, as Ferramentas e Ecossistema de Ciência de Dados são resumidos."
   ]
  },
  {
   "cell_type": "markdown",
   "id": "309ea518-938e-4200-bbe4-737f107ac96e",
   "metadata": {},
   "source": [
    "##### Obejtivos:\n",
    "* Listar as principais linguagens utilizadas em Ciência de Dados.\n",
    "* Listar as principais bibliotecas utilizadas em Ciência de Dados.\n",
    "* Apresentar uma tabela com as principais ferramentas de Ciência de Dados.\n",
    "* Mostrar exemplos de operações aritméticas realizadas no Jupyter Notebook."
   ]
  },
  {
   "cell_type": "markdown",
   "id": "5bd125ca-be86-44eb-8b5c-6e6a18a337d8",
   "metadata": {},
   "source": [
    "Algumas das linguagens populares que os Cientistas de Dados usam são:\n",
    "1. Python\n",
    "2. R\n",
    "3. Julia\n",
    "4. C++\n",
    "5. SQL\n",
    "6. Java\n",
    "7. Scala"
   ]
  },
  {
   "cell_type": "markdown",
   "id": "47413d77-f69a-429a-b944-a446ddc22820",
   "metadata": {},
   "source": [
    "Algumas das bibliotecas comumente usadas por Cientistas de Dados incluem:\n",
    "1. NumPy\n",
    "2. Pandas\n",
    "3. Matplotlib\n",
    "4. TensorFlow"
   ]
  },
  {
   "cell_type": "markdown",
   "id": "46ce0d98-0330-4755-af4d-3f5b25885aac",
   "metadata": {},
   "source": [
    "|  Ferramentas de Ciência de Dados\n",
    "| ----------------------------\n",
    "| Jupyter Notebook\n",
    "| RStudio\n",
    "| Tableu\n",
    "| Kubeflow"
   ]
  },
  {
   "cell_type": "markdown",
   "id": "3e16f751-9d8e-4d40-8dd1-4fd9de9e91c1",
   "metadata": {},
   "source": [
    "### Abaixo estão alguns exemplos de avaliação de expressões aritméticas em Python"
   ]
  },
  {
   "cell_type": "code",
   "execution_count": 4,
   "id": "a30d1356-ddd3-4829-8ec8-37aa9bf97481",
   "metadata": {},
   "outputs": [
    {
     "data": {
      "text/plain": [
       "17"
      ]
     },
     "execution_count": 4,
     "metadata": {},
     "output_type": "execute_result"
    }
   ],
   "source": [
    "# Esta é uma expressão aritmética para multiplicar e depois adicionar inteiros\n",
    "(3*4)+5"
   ]
  },
  {
   "cell_type": "code",
   "execution_count": 25,
   "id": "9318ab71-08e6-48ba-8133-a866ac1303b0",
   "metadata": {},
   "outputs": [
    {
     "name": "stdout",
     "output_type": "stream",
     "text": [
      "200 minutos é igual a 3 horas e 20 minutos\n"
     ]
    }
   ],
   "source": [
    "# Isso converterá 200 minutos em horas dividindo por 60\n",
    "minutos = 200\n",
    "horas = minutos // 60\n",
    "sobra = minutos % 60\n",
    "print((minutos),'minutos é igual a', (horas),'horas e',(sobra),'minutos')"
   ]
  },
  {
   "cell_type": "markdown",
   "id": "b79b66b0-990c-426b-ad24-43cce30e1b07",
   "metadata": {},
   "source": [
    "## Autor"
   ]
  },
  {
   "cell_type": "markdown",
   "id": "f4744ac9-012c-4c3d-acc0-553f55f62de9",
   "metadata": {},
   "source": [
    "Cassio Soares"
   ]
  },
  {
   "cell_type": "code",
   "execution_count": null,
   "id": "9909811b-aaeb-43d7-9a9b-2da6802426ec",
   "metadata": {},
   "outputs": [],
   "source": []
  }
 ],
 "metadata": {
  "kernelspec": {
   "display_name": "Python [conda env:anaconda3]",
   "language": "python",
   "name": "conda-env-anaconda3-py"
  },
  "language_info": {
   "codemirror_mode": {
    "name": "ipython",
    "version": 3
   },
   "file_extension": ".py",
   "mimetype": "text/x-python",
   "name": "python",
   "nbconvert_exporter": "python",
   "pygments_lexer": "ipython3",
   "version": "3.13.5"
  }
 },
 "nbformat": 4,
 "nbformat_minor": 5
}
